{
 "cells": [
  {
   "cell_type": "code",
   "execution_count": null,
   "id": "78522022-f17a-4843-8c87-75cebc0a0e4f",
   "metadata": {},
   "outputs": [],
   "source": [
    "\n",
    "import numpy as nmp\n",
    "\n",
    "import pandas as pd\n",
    "\n",
    "import matplotlib.pyplot as pplt\n",
    "\n",
    "\n",
    "from sklearn.preprocessing import StandardScaler\n",
    "from sklearn.preprocessing import normalize\n",
    "\n",
    "from sklearn.cluster       import DBSCAN\n",
    "from sklearn.decomposition import PCA "
   ]
  },
  {
   "cell_type": "code",
   "execution_count": null,
   "id": "4b57a10d-0fd8-4f66-9590-c443baa60d7d",
   "metadata": {},
   "outputs": [],
   "source": [
    "\n",
    "M = pd.read_csv('Dataset_9.csv') \n",
    "\n",
    "# Dropping the CUST_ID column from the dataset with drop() function\n",
    "M = M.drop('CUST_ID', axis = 1)\n",
    "\n",
    "# Using fillna() function to handle missing values\n",
    "M.fillna(method ='ffill', inplace = True)\n"
   ]
  },
  {
   "cell_type": "code",
   "execution_count": null,
   "id": "97084f12-282e-4872-b39b-f5ef7e90436d",
   "metadata": {},
   "outputs": [],
   "source": [
    "M.keys()"
   ]
  },
  {
   "cell_type": "code",
   "execution_count": null,
   "id": "8e5e4f3c-f7fc-4f09-ae04-45397a564291",
   "metadata": {},
   "outputs": [],
   "source": [
    "M.head()"
   ]
  },
  {
   "cell_type": "code",
   "execution_count": null,
   "id": "56b14a1f-2994-474c-a85d-9ba22b819580",
   "metadata": {},
   "outputs": [],
   "source": [
    "\n",
    "scaler = StandardScaler()\n",
    "\n",
    "M_scaled = scaler.fit_transform(M)\n",
    "\n",
    "M_normalized = normalize(M_scaled)\n",
    "\n",
    "# Now we will convert numpy \"arrays\" in the dataset into \"dataframes\" of panda\n",
    "M_normalized = pd.DataFrame(M_normalized)"
   ]
  },
  {
   "cell_type": "code",
   "execution_count": null,
   "id": "0942652e-5092-4bce-aff7-ac13472a8f56",
   "metadata": {},
   "outputs": [],
   "source": [
    "# Transforming the normalized data with PCA\n",
    "# Making dataframes from the transformed data\n",
    "\n",
    "pcaFD = PCA(n_components = 2) # components of data\n",
    "\n",
    "M_principal = pcaFD.fit_transform(M_normalized)\n",
    "\n",
    "M_principal = pd.DataFrame(M_principal)\n",
    "\n",
    "# Creating two columns in the transformed data\n",
    "M_principal.columns = ['C1', 'C2']\n",
    "\n"
   ]
  },
  {
   "cell_type": "code",
   "execution_count": null,
   "id": "be7d4d75-320e-4f2d-98e9-61a4245ae6fb",
   "metadata": {},
   "outputs": [],
   "source": [
    "# Printing the head of the transformed data\n",
    "M_principal.head()"
   ]
  },
  {
   "cell_type": "code",
   "execution_count": null,
   "id": "309d47c2-3ae3-4aac-bc0a-0eca8fa0ab48",
   "metadata": {},
   "outputs": [],
   "source": [
    "# Creating clustering model of the data using the DBSCAN function and providing parameters\n",
    "\n",
    "db_default = DBSCAN(eps = 0.0375, min_samples = 3).fit(M_principal)\n",
    "\n",
    "\n",
    "# Labelling the clusters we have created in the dataset\n",
    "labeling = db_default.labels_ "
   ]
  },
  {
   "cell_type": "code",
   "execution_count": null,
   "id": "e1c42fb9-f352-4f26-a8db-852c7f2d23a9",
   "metadata": {},
   "outputs": [],
   "source": [
    "# Visualization of clustering model by giving different colours\n",
    "colours = {}\n",
    "\n",
    "# First colour in visualization is green\n",
    "colours[0] = 'g'\n",
    "# Second colour in visualization is black \n",
    "colours[1] = 'k'\n",
    "# Third colour in visualization is red\n",
    "colours[2] = 'r'\n",
    "# Last colour in visualization is blue\n",
    "colours[-1] = 'b'\n",
    "\n",
    "\n",
    "# Creating a colour vector for each data point in the dataset cluster\n",
    "cvec = [colours[label] for label in labeling]\n",
    "\n",
    "\n",
    "# Construction of the legend\n",
    "\n",
    "g = pplt.scatter(M_principal['C1'], M_principal['C2'], color ='g');\n",
    "\n",
    "k = pplt.scatter(M_principal['C1'], M_principal['C2'], color ='k');\n",
    "\n",
    "r = pplt.scatter(M_principal['C1'], M_principal['C2'], color ='r');\n",
    "\n",
    "b = pplt.scatter(M_principal['C1'], M_principal['C2'], color ='b');\n",
    "\n",
    "# Plotting C1 column on the X-Axis and C2 on the Y-Axis\n",
    "\n",
    "# Fitting the size of the figure with figure function\n",
    "pplt.figure(figsize =(9, 9))\n",
    "\n",
    "# Scattering the data points in the Visualization graph\n",
    "pplt.scatter(M_principal['C1'], M_principal['C2'], c = cvec)\n",
    "\n",
    "# Building the legend with the coloured data points and labelled\n",
    "pplt.legend((g, k, r, b), ('Label M.0', 'Label M.1', 'Label M.2', 'Label M.-1'))\n",
    "\n",
    "# Showing Visualization in the output\n",
    "pplt.show() "
   ]
  },
  {
   "cell_type": "code",
   "execution_count": null,
   "id": "abf369b6-8ecb-4dc4-b7ad-bac229e5f6d7",
   "metadata": {},
   "outputs": [],
   "source": [
    "# Tuning the parameters of the model inside the DBSCAN function\n",
    "dts = DBSCAN(eps = 0.0375, min_samples = 50).fit(M_principal)\n",
    "\n",
    "# Labelling the clusters of data points\n",
    "labeling = dts.labels_\n",
    "\n",
    "colours1 = {}\n",
    "\n",
    "colours1[0] = 'r'\n",
    "colours1[1] = 'g'\n",
    "colours1[2] = 'b'\n",
    "colours1[3] = 'c'\n",
    "colours1[4] = 'y'\n",
    "colours1[5] = 'm'\n",
    "\n",
    "colours1[-1] = 'k'\n",
    "\n",
    "# Labelling the data points with the colour variable we have defined\n",
    "cvec = [colours1[label] for label in labeling]\n",
    "\n",
    "# Defining all colour that we will use\n",
    "colors = ['r', 'g', 'b', 'c', 'y', 'm', 'k' ]\n",
    "\n",
    "# Scattering the colours onto the data points \n",
    "r = pplt.scatter( M_principal['C1'], M_principal['C2'], marker ='o', color = colors[0])\n",
    "g = pplt.scatter( M_principal['C1'], M_principal['C2'], marker ='o', color = colors[1])\n",
    "b = pplt.scatter( M_principal['C1'], M_principal['C2'], marker ='o', color = colors[2])\n",
    "c = pplt.scatter( M_principal['C1'], M_principal['C2'], marker ='o', color = colors[3])\n",
    "y = pplt.scatter( M_principal['C1'], M_principal['C2'], marker ='o', color = colors[4])\n",
    "m = pplt.scatter( M_principal['C1'], M_principal['C2'], marker ='o', color = colors[5])\n",
    "k = pplt.scatter( M_principal['C1'], M_principal['C2'], marker ='o', color = colors[6])\n",
    "\n",
    "# Fitting the size of the figure with figure function\n",
    "pplt.figure(figsize =(9, 9))\n",
    "\n",
    "# Scattering column 1 into X-axis and column 2 into y-axis\n",
    "pplt.scatter(M_principal['C1'], M_principal['C2'], c = cvec)\n",
    "\n",
    "# Constructing a legend with the colours we have defined\n",
    "pplt.legend((r, g, b, c, y, m, k),\n",
    "     ('Label M.0', 'Label M.1', 'Label M.2', 'Label M.3', 'Label M.4','Label M.5', 'Label M.-1'), \n",
    "     scatterpoints = 1, # Defining the scatter point\n",
    "     loc ='upper left', # Location of cluster scattering\n",
    "     ncol = 3, # Number of columns\n",
    "     fontsize = 10) # Size of the font\n",
    "\n",
    "# Displaying the visualisation of changes in cluster scattering\n",
    "pplt.show() "
   ]
  },
  {
   "cell_type": "code",
   "execution_count": null,
   "id": "3998bb50-7d4c-4050-85df-2094cc3c6e5f",
   "metadata": {},
   "outputs": [],
   "source": []
  }
 ],
 "metadata": {
  "kernelspec": {
   "display_name": "Python 3 (ipykernel)",
   "language": "python",
   "name": "python3"
  },
  "language_info": {
   "codemirror_mode": {
    "name": "ipython",
    "version": 3
   },
   "file_extension": ".py",
   "mimetype": "text/x-python",
   "name": "python",
   "nbconvert_exporter": "python",
   "pygments_lexer": "ipython3",
   "version": "3.11.6"
  }
 },
 "nbformat": 4,
 "nbformat_minor": 5
}
